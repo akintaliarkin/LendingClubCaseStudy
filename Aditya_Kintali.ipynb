{
 "cells": [
  {
   "cell_type": "markdown",
   "id": "afb29a89",
   "metadata": {},
   "source": [
    "# Data Sourcing"
   ]
  },
  {
   "cell_type": "code",
   "execution_count": 1,
   "id": "be8b219d",
   "metadata": {},
   "outputs": [],
   "source": [
    "#importing pandas modules to be used\n",
    "\n",
    "import pandas as pd                    # pandas module for loading data in dataframe.\n",
    "import matplotlib.pyplot as plt        # Matplotlib module for visulazing & plotting data in graphs.\n",
    "\n",
    "import warnings                        # To remove warning in output\n",
    "warnings.filterwarnings('ignore')\n",
    "\n",
    "\n"
   ]
  },
  {
   "cell_type": "code",
   "execution_count": 2,
   "id": "2556a793",
   "metadata": {
    "scrolled": false
   },
   "outputs": [],
   "source": [
    "#'df' is the pandas dataframe variable containing 'loan.csv' data\n",
    "\n",
    "df = pd.read_csv('loan.csv')"
   ]
  },
  {
   "cell_type": "code",
   "execution_count": 3,
   "id": "a9473dab",
   "metadata": {},
   "outputs": [
    {
     "data": {
      "text/plain": [
       "<bound method NDFrame.describe of             id  member_id  loan_amnt  funded_amnt  funded_amnt_inv  \\\n",
       "0      1077501    1296599       5000         5000           4975.0   \n",
       "1      1077430    1314167       2500         2500           2500.0   \n",
       "2      1077175    1313524       2400         2400           2400.0   \n",
       "3      1076863    1277178      10000        10000          10000.0   \n",
       "4      1075358    1311748       3000         3000           3000.0   \n",
       "...        ...        ...        ...          ...              ...   \n",
       "39712    92187      92174       2500         2500           1075.0   \n",
       "39713    90665      90607       8500         8500            875.0   \n",
       "39714    90395      90390       5000         5000           1325.0   \n",
       "39715    90376      89243       5000         5000            650.0   \n",
       "39716    87023      86999       7500         7500            800.0   \n",
       "\n",
       "             term int_rate  installment grade sub_grade  ...  \\\n",
       "0       36 months   10.65%       162.87     B        B2  ...   \n",
       "1       60 months   15.27%        59.83     C        C4  ...   \n",
       "2       36 months   15.96%        84.33     C        C5  ...   \n",
       "3       36 months   13.49%       339.31     C        C1  ...   \n",
       "4       60 months   12.69%        67.79     B        B5  ...   \n",
       "...           ...      ...          ...   ...       ...  ...   \n",
       "39712   36 months    8.07%        78.42     A        A4  ...   \n",
       "39713   36 months   10.28%       275.38     C        C1  ...   \n",
       "39714   36 months    8.07%       156.84     A        A4  ...   \n",
       "39715   36 months    7.43%       155.38     A        A2  ...   \n",
       "39716   36 months   13.75%       255.43     E        E2  ...   \n",
       "\n",
       "      num_tl_90g_dpd_24m num_tl_op_past_12m pct_tl_nvr_dlq  percent_bc_gt_75  \\\n",
       "0                    NaN                NaN            NaN               NaN   \n",
       "1                    NaN                NaN            NaN               NaN   \n",
       "2                    NaN                NaN            NaN               NaN   \n",
       "3                    NaN                NaN            NaN               NaN   \n",
       "4                    NaN                NaN            NaN               NaN   \n",
       "...                  ...                ...            ...               ...   \n",
       "39712                NaN                NaN            NaN               NaN   \n",
       "39713                NaN                NaN            NaN               NaN   \n",
       "39714                NaN                NaN            NaN               NaN   \n",
       "39715                NaN                NaN            NaN               NaN   \n",
       "39716                NaN                NaN            NaN               NaN   \n",
       "\n",
       "      pub_rec_bankruptcies tax_liens tot_hi_cred_lim total_bal_ex_mort  \\\n",
       "0                      0.0       0.0             NaN               NaN   \n",
       "1                      0.0       0.0             NaN               NaN   \n",
       "2                      0.0       0.0             NaN               NaN   \n",
       "3                      0.0       0.0             NaN               NaN   \n",
       "4                      0.0       0.0             NaN               NaN   \n",
       "...                    ...       ...             ...               ...   \n",
       "39712                  NaN       NaN             NaN               NaN   \n",
       "39713                  NaN       NaN             NaN               NaN   \n",
       "39714                  NaN       NaN             NaN               NaN   \n",
       "39715                  NaN       NaN             NaN               NaN   \n",
       "39716                  NaN       NaN             NaN               NaN   \n",
       "\n",
       "      total_bc_limit total_il_high_credit_limit  \n",
       "0                NaN                        NaN  \n",
       "1                NaN                        NaN  \n",
       "2                NaN                        NaN  \n",
       "3                NaN                        NaN  \n",
       "4                NaN                        NaN  \n",
       "...              ...                        ...  \n",
       "39712            NaN                        NaN  \n",
       "39713            NaN                        NaN  \n",
       "39714            NaN                        NaN  \n",
       "39715            NaN                        NaN  \n",
       "39716            NaN                        NaN  \n",
       "\n",
       "[39717 rows x 111 columns]>"
      ]
     },
     "execution_count": 3,
     "metadata": {},
     "output_type": "execute_result"
    }
   ],
   "source": [
    "df.describe   # data frame description, we will use this for analysis\n"
   ]
  },
  {
   "cell_type": "markdown",
   "id": "b877a09f",
   "metadata": {},
   "source": [
    "# Data Understanding"
   ]
  },
  {
   "cell_type": "code",
   "execution_count": 4,
   "id": "dfb51d57",
   "metadata": {},
   "outputs": [
    {
     "name": "stdout",
     "output_type": "stream",
     "text": [
      "id                                0\n",
      "member_id                         0\n",
      "loan_amnt                         0\n",
      "funded_amnt                       0\n",
      "funded_amnt_inv                   0\n",
      "                              ...  \n",
      "tax_liens                        39\n",
      "tot_hi_cred_lim               39717\n",
      "total_bal_ex_mort             39717\n",
      "total_bc_limit                39717\n",
      "total_il_high_credit_limit    39717\n",
      "Length: 111, dtype: int64\n"
     ]
    }
   ],
   "source": [
    "# count of null in columns\n",
    "print(df.isnull().sum())"
   ]
  },
  {
   "cell_type": "markdown",
   "id": "70319d94",
   "metadata": {},
   "source": [
    "---\n",
    "<span style='background:yellow'>\n",
    "From Data's description and null evaluation we have identified following -\n",
    "\n",
    "* There are Multiple columns which are filled with null values.\n",
    "    \n",
    "    \n",
    "* Below Column in data set are filled mostly with null values.\n",
    "        next_pymnt_d\n",
    "        mths_since_last_record\n",
    "        mths_since_last_delinq \n",
    "        desc\n",
    "* Below Column in data set are filled with just one unique value, which does not add any value to our analysis.\n",
    "        policy_code\n",
    "        acc_now_delinq\n",
    "        tax_liens\n",
    "        delinq_amnt\n",
    "        chargeoff_within_12_mths\n",
    "        collections_12_mths_ex_med\n",
    "        pymnt_plan\n",
    "* Below Column in data set does not add any value to our analysis as per their defination.\n",
    "        member_id\n",
    "        url\n",
    "        emp_title\n",
    "        application_type\n",
    "    \n",
    "---"
   ]
  },
  {
   "cell_type": "markdown",
   "id": "6459ac07",
   "metadata": {},
   "source": [
    "# Data cleaning"
   ]
  },
  {
   "cell_type": "code",
   "execution_count": 5,
   "id": "a362b9c3",
   "metadata": {},
   "outputs": [],
   "source": [
    "# Removing Columns filled with only null\n",
    "\n",
    "df = df.dropna(axis=1, how='all')"
   ]
  },
  {
   "cell_type": "code",
   "execution_count": 6,
   "id": "cf54e051",
   "metadata": {},
   "outputs": [
    {
     "data": {
      "text/plain": [
       "(39717, 57)"
      ]
     },
     "execution_count": 6,
     "metadata": {},
     "output_type": "execute_result"
    }
   ],
   "source": [
    "df.shape"
   ]
  },
  {
   "cell_type": "code",
   "execution_count": 7,
   "id": "a2060ef7",
   "metadata": {},
   "outputs": [],
   "source": [
    "# Deleting not required Columns from our data set\n",
    "\n",
    "# drop_col is list of columns mostly filled with null values\n",
    "drop_col = ['next_pymnt_d','mths_since_last_record','mths_since_last_delinq','desc']\n",
    "df.drop(labels =drop_col, axis=1, inplace=True)\n",
    "\n",
    "# drop_col1 is list of columns irrelevent to our EDA as per given data dictionary\n",
    "drop_col1 = ['member_id','url','emp_title','application_type']\n",
    "df.drop(labels =drop_col1, axis=1, inplace=True)\n",
    "\n",
    "# drop_col2 is list of columns having only one unique value\n",
    "drop_col2 = ['policy_code','acc_now_delinq','tax_liens','delinq_amnt','chargeoff_within_12_mths','collections_12_mths_ex_med','pymnt_plan']\n",
    "df.drop(labels =drop_col2, axis=1, inplace=True)"
   ]
  },
  {
   "cell_type": "code",
   "execution_count": 8,
   "id": "75b0b91b",
   "metadata": {},
   "outputs": [
    {
     "data": {
      "text/plain": [
       "11"
      ]
     },
     "execution_count": 8,
     "metadata": {},
     "output_type": "execute_result"
    }
   ],
   "source": [
    "df[\"title\"].isna().sum()\n"
   ]
  },
  {
   "cell_type": "code",
   "execution_count": 9,
   "id": "29f3e97c",
   "metadata": {},
   "outputs": [
    {
     "data": {
      "text/plain": [
       "(39717, 42)"
      ]
     },
     "execution_count": 9,
     "metadata": {},
     "output_type": "execute_result"
    }
   ],
   "source": [
    "df.shape"
   ]
  },
  {
   "cell_type": "code",
   "execution_count": 10,
   "id": "331fe69f",
   "metadata": {},
   "outputs": [],
   "source": [
    "# Formatting Emp_title Column\n",
    "\n",
    "df['emp_length'].fillna('0',inplace=True) # replacing null values with 0\n",
    "df['emp_length']=df['emp_length'].str.extract('(\\d+)') # removing '+' character from values"
   ]
  },
  {
   "cell_type": "code",
   "execution_count": 11,
   "id": "b3e6877f",
   "metadata": {},
   "outputs": [],
   "source": [
    "# Removing % symbol from intrest rate and revol_util column\n",
    "\n",
    "df['int_rate'] = df['int_rate'].str.rstrip('%')\n",
    "df['revol_util'] = df['revol_util'].str.rstrip('%')"
   ]
  },
  {
   "cell_type": "code",
   "execution_count": 12,
   "id": "72f305f7",
   "metadata": {},
   "outputs": [],
   "source": [
    "# Filling missing values in title and pub_rec_bankruptcies column as 'unknown'.\n",
    "\n",
    "df['title'].fillna('Unknown',inplace=True)\n",
    "df['pub_rec_bankruptcies'].fillna('Unknown',inplace=True)"
   ]
  },
  {
   "cell_type": "code",
   "execution_count": 13,
   "id": "1c268428",
   "metadata": {},
   "outputs": [],
   "source": [
    "# changing data types of required column to numeric value, to perform analysis operations on these columns.\n",
    "\n",
    "# col4 is the list of columns suppose to have numeric values.\n",
    "\n",
    "col4 = ['loan_amnt','funded_amnt','int_rate','funded_amnt_inv','installment','annual_inc','dti','emp_length','total_pymnt']\n",
    "\n",
    "df[col4] = df[col4].apply(pd.to_numeric)"
   ]
  },
  {
   "cell_type": "code",
   "execution_count": 37,
   "id": "3426edd7",
   "metadata": {},
   "outputs": [
    {
     "name": "stdout",
     "output_type": "stream",
     "text": [
      "id                         0\n",
      "loan_amnt                  0\n",
      "funded_amnt                0\n",
      "funded_amnt_inv            0\n",
      "term                       0\n",
      "int_rate                   0\n",
      "installment                0\n",
      "grade                      0\n",
      "sub_grade                  0\n",
      "emp_length                 0\n",
      "home_ownership             0\n",
      "annual_inc                 0\n",
      "verification_status        0\n",
      "issue_d                    0\n",
      "loan_status                0\n",
      "purpose                    0\n",
      "title                      0\n",
      "zip_code                   0\n",
      "addr_state                 0\n",
      "dti                        0\n",
      "delinq_2yrs                0\n",
      "earliest_cr_line           0\n",
      "inq_last_6mths             0\n",
      "open_acc                   0\n",
      "pub_rec                    0\n",
      "revol_bal                  0\n",
      "revol_util                 0\n",
      "total_acc                  0\n",
      "initial_list_status        0\n",
      "out_prncp                  0\n",
      "out_prncp_inv              0\n",
      "total_pymnt                0\n",
      "total_pymnt_inv            0\n",
      "total_rec_prncp            0\n",
      "total_rec_int              0\n",
      "total_rec_late_fee         0\n",
      "recoveries                 0\n",
      "collection_recovery_fee    0\n",
      "last_pymnt_d               0\n",
      "last_pymnt_amnt            0\n",
      "last_credit_pull_d         0\n",
      "pub_rec_bankruptcies       0\n",
      "dtype: int64\n"
     ]
    }
   ],
   "source": [
    "df = df.dropna() # Dropping all the rows that still have null values\n",
    "\n",
    "df = df.reset_index(drop=True) # resetting index after all the clening operations\n",
    "\n",
    "print(df.isnull().sum()) # checking if any null values are remaing for any column"
   ]
  },
  {
   "cell_type": "code",
   "execution_count": 16,
   "id": "39e017fc",
   "metadata": {
    "scrolled": true
   },
   "outputs": [
    {
     "data": {
      "text/plain": [
       "Index(['id', 'loan_amnt', 'funded_amnt', 'funded_amnt_inv', 'term', 'int_rate',\n",
       "       'installment', 'grade', 'sub_grade', 'emp_length', 'home_ownership',\n",
       "       'annual_inc', 'verification_status', 'issue_d', 'loan_status',\n",
       "       'purpose', 'title', 'zip_code', 'addr_state', 'dti', 'delinq_2yrs',\n",
       "       'earliest_cr_line', 'inq_last_6mths', 'open_acc', 'pub_rec',\n",
       "       'revol_bal', 'revol_util', 'total_acc', 'initial_list_status',\n",
       "       'out_prncp', 'out_prncp_inv', 'total_pymnt', 'total_pymnt_inv',\n",
       "       'total_rec_prncp', 'total_rec_int', 'total_rec_late_fee', 'recoveries',\n",
       "       'collection_recovery_fee', 'last_pymnt_d', 'last_pymnt_amnt',\n",
       "       'last_credit_pull_d', 'pub_rec_bankruptcies'],\n",
       "      dtype='object')"
      ]
     },
     "execution_count": 16,
     "metadata": {},
     "output_type": "execute_result"
    }
   ],
   "source": [
    "df.columns # listing all columns in our data set"
   ]
  },
  {
   "cell_type": "markdown",
   "id": "995fd5ab",
   "metadata": {},
   "source": [
    "# Data analysis"
   ]
  },
  {
   "cell_type": "code",
   "execution_count": 25,
   "id": "257ea8c3",
   "metadata": {},
   "outputs": [],
   "source": [
    "#creating a subset data frame which contains only 'charged-off' data\n",
    "\n",
    "defaulter = df[(df.loan_status=='Charged Off')] # defaulter is the data frame contaning data where loan status is 'charged off'"
   ]
  },
  {
   "cell_type": "code",
   "execution_count": 29,
   "id": "aaad9178",
   "metadata": {},
   "outputs": [
    {
     "data": {
      "text/plain": [
       "(5543, 42)"
      ]
     },
     "execution_count": 29,
     "metadata": {},
     "output_type": "execute_result"
    }
   ],
   "source": [
    "defaulter.shape"
   ]
  },
  {
   "cell_type": "code",
   "execution_count": 28,
   "id": "7041b9ce",
   "metadata": {
    "scrolled": true
   },
   "outputs": [
    {
     "data": {
      "text/plain": [
       "debt_consolidation    2734\n",
       "other                  621\n",
       "credit_card            538\n",
       "small_business         466\n",
       "home_improvement       341\n",
       "major_purchase         216\n",
       "car                    159\n",
       "medical                105\n",
       "moving                  92\n",
       "wedding                 90\n",
       "house                   57\n",
       "vacation                53\n",
       "educational             53\n",
       "renewable_energy        18\n",
       "Name: purpose, dtype: int64"
      ]
     },
     "execution_count": 28,
     "metadata": {},
     "output_type": "execute_result"
    }
   ],
   "source": [
    "defaulter.purpose.value_counts()"
   ]
  },
  {
   "cell_type": "code",
   "execution_count": 30,
   "id": "e804fe29",
   "metadata": {},
   "outputs": [
    {
     "data": {
      "image/png": "[encoded data removed]",
      "text/plain": [
       "<Figure size 2880x720 with 1 Axes>"
      ]
     },
     "metadata": {
      "needs_background": "light"
     },
     "output_type": "display_data"
    }
   ],
   "source": [
    "plt.figure(figsize=(40,10))\n",
    "plt.hist(defaulter.purpose)\n",
    "plt.show()"
   ]
  },
  {
   "cell_type": "code",
   "execution_count": 39,
   "id": "e68c1013",
   "metadata": {},
   "outputs": [
    {
     "data": {
      "text/plain": [
       "B    1410\n",
       "C    1318\n",
       "D    1102\n",
       "E     704\n",
       "A     596\n",
       "F     316\n",
       "G      97\n",
       "Name: grade, dtype: int64"
      ]
     },
     "execution_count": 39,
     "metadata": {},
     "output_type": "execute_result"
    }
   ],
   "source": [
    "defaulter.grade.value_counts()"
   ]
  },
  {
   "cell_type": "code",
   "execution_count": 41,
   "id": "463ab932",
   "metadata": {},
   "outputs": [
    {
     "data": {
      "text/plain": [
       "{'whiskers': [<matplotlib.lines.Line2D at 0x12d5d5a1fa0>,\n",
       "  <matplotlib.lines.Line2D at 0x12d5d5b6310>],\n",
       " 'caps': [<matplotlib.lines.Line2D at 0x12d5d5b66a0>,\n",
       "  <matplotlib.lines.Line2D at 0x12d5d5b6a30>],\n",
       " 'boxes': [<matplotlib.lines.Line2D at 0x12d5d5a1bb0>],\n",
       " 'medians': [<matplotlib.lines.Line2D at 0x12d5d5b6dc0>],\n",
       " 'fliers': [<matplotlib.lines.Line2D at 0x12d5d5c2190>],\n",
       " 'means': []}"
      ]
     },
     "execution_count": 41,
     "metadata": {},
     "output_type": "execute_result"
    },
    {
     "data": {
      "image/png": "[encoded data removed]",
      "text/plain": [
       "<Figure size 432x288 with 1 Axes>"
      ]
     },
     "metadata": {
      "needs_background": "light"
     },
     "output_type": "display_data"
    }
   ],
   "source": [
    "plt.boxplot(defaulter.revol_bal)"
   ]
  },
  {
   "cell_type": "code",
   "execution_count": 42,
   "id": "a41f1bb4",
   "metadata": {},
   "outputs": [
    {
     "data": {
      "text/plain": [
       "count      5543.00000\n",
       "mean      13632.22551\n",
       "std       15215.79527\n",
       "min           0.00000\n",
       "25%        4050.50000\n",
       "50%        9323.00000\n",
       "75%       17624.50000\n",
       "max      148829.00000\n",
       "Name: revol_bal, dtype: float64"
      ]
     },
     "execution_count": 42,
     "metadata": {},
     "output_type": "execute_result"
    }
   ],
   "source": [
    "defaulter.revol_bal.describe()"
   ]
  },
  {
   "cell_type": "code",
   "execution_count": null,
   "id": "da749476",
   "metadata": {},
   "outputs": [],
   "source": []
  }
 ],
 "metadata": {
  "kernelspec": {
   "display_name": "Python 3 (ipykernel)",
   "language": "python",
   "name": "python3"
  },
  "language_info": {
   "codemirror_mode": {
    "name": "ipython",
    "version": 3
   },
   "file_extension": ".py",
   "mimetype": "text/x-python",
   "name": "python",
   "nbconvert_exporter": "python",
   "pygments_lexer": "ipython3",
   "version": "3.9.7"
  }
 },
 "nbformat": 4,
 "nbformat_minor": 5
}
