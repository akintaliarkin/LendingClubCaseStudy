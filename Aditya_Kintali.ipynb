{
 "cells": [
  {
   "cell_type": "markdown",
   "id": "afb29a89",
   "metadata": {},
   "source": [
    "# Data Sourcing"
   ]
  },
  {
   "cell_type": "code",
   "execution_count": 1,
   "id": "be8b219d",
   "metadata": {},
   "outputs": [],
   "source": [
    "#importing pandas modules to be used\n",
    "\n",
    "import pandas as pd                    # pandas module for loading data in dataframe.\n",
    "import matplotlib.pyplot as plt        # Matplotlib module for visulazing & plotting data in graphs.\n",
    "import seaborn as sns                  # Seaborn module to polt different graphs\n",
    "\n",
    "import warnings                        # To remove warning in output\n",
    "warnings.filterwarnings('ignore')\n",
    "\n",
    "\n"
   ]
  },
  {
   "cell_type": "code",
   "execution_count": 2,
   "id": "2556a793",
   "metadata": {
    "scrolled": false
   },
   "outputs": [],
   "source": [
    "#'df' is the pandas dataframe variable containing 'loan.csv' data\n",
    "\n",
    "df = pd.read_csv('loan.csv')"
   ]
  },
  {
   "cell_type": "code",
   "execution_count": 3,
   "id": "a9473dab",
   "metadata": {},
   "outputs": [
    {
     "data": {
      "text/plain": [
       "<bound method NDFrame.describe of             id  member_id  loan_amnt  funded_amnt  funded_amnt_inv  \\\n",
       "0      1077501    1296599       5000         5000           4975.0   \n",
       "1      1077430    1314167       2500         2500           2500.0   \n",
       "2      1077175    1313524       2400         2400           2400.0   \n",
       "3      1076863    1277178      10000        10000          10000.0   \n",
       "4      1075358    1311748       3000         3000           3000.0   \n",
       "...        ...        ...        ...          ...              ...   \n",
       "39712    92187      92174       2500         2500           1075.0   \n",
       "39713    90665      90607       8500         8500            875.0   \n",
       "39714    90395      90390       5000         5000           1325.0   \n",
       "39715    90376      89243       5000         5000            650.0   \n",
       "39716    87023      86999       7500         7500            800.0   \n",
       "\n",
       "             term int_rate  installment grade sub_grade  ...  \\\n",
       "0       36 months   10.65%       162.87     B        B2  ...   \n",
       "1       60 months   15.27%        59.83     C        C4  ...   \n",
       "2       36 months   15.96%        84.33     C        C5  ...   \n",
       "3       36 months   13.49%       339.31     C        C1  ...   \n",
       "4       60 months   12.69%        67.79     B        B5  ...   \n",
       "...           ...      ...          ...   ...       ...  ...   \n",
       "39712   36 months    8.07%        78.42     A        A4  ...   \n",
       "39713   36 months   10.28%       275.38     C        C1  ...   \n",
       "39714   36 months    8.07%       156.84     A        A4  ...   \n",
       "39715   36 months    7.43%       155.38     A        A2  ...   \n",
       "39716   36 months   13.75%       255.43     E        E2  ...   \n",
       "\n",
       "      num_tl_90g_dpd_24m num_tl_op_past_12m pct_tl_nvr_dlq  percent_bc_gt_75  \\\n",
       "0                    NaN                NaN            NaN               NaN   \n",
       "1                    NaN                NaN            NaN               NaN   \n",
       "2                    NaN                NaN            NaN               NaN   \n",
       "3                    NaN                NaN            NaN               NaN   \n",
       "4                    NaN                NaN            NaN               NaN   \n",
       "...                  ...                ...            ...               ...   \n",
       "39712                NaN                NaN            NaN               NaN   \n",
       "39713                NaN                NaN            NaN               NaN   \n",
       "39714                NaN                NaN            NaN               NaN   \n",
       "39715                NaN                NaN            NaN               NaN   \n",
       "39716                NaN                NaN            NaN               NaN   \n",
       "\n",
       "      pub_rec_bankruptcies tax_liens tot_hi_cred_lim total_bal_ex_mort  \\\n",
       "0                      0.0       0.0             NaN               NaN   \n",
       "1                      0.0       0.0             NaN               NaN   \n",
       "2                      0.0       0.0             NaN               NaN   \n",
       "3                      0.0       0.0             NaN               NaN   \n",
       "4                      0.0       0.0             NaN               NaN   \n",
       "...                    ...       ...             ...               ...   \n",
       "39712                  NaN       NaN             NaN               NaN   \n",
       "39713                  NaN       NaN             NaN               NaN   \n",
       "39714                  NaN       NaN             NaN               NaN   \n",
       "39715                  NaN       NaN             NaN               NaN   \n",
       "39716                  NaN       NaN             NaN               NaN   \n",
       "\n",
       "      total_bc_limit total_il_high_credit_limit  \n",
       "0                NaN                        NaN  \n",
       "1                NaN                        NaN  \n",
       "2                NaN                        NaN  \n",
       "3                NaN                        NaN  \n",
       "4                NaN                        NaN  \n",
       "...              ...                        ...  \n",
       "39712            NaN                        NaN  \n",
       "39713            NaN                        NaN  \n",
       "39714            NaN                        NaN  \n",
       "39715            NaN                        NaN  \n",
       "39716            NaN                        NaN  \n",
       "\n",
       "[39717 rows x 111 columns]>"
      ]
     },
     "execution_count": 3,
     "metadata": {},
     "output_type": "execute_result"
    }
   ],
   "source": [
    "df.describe   # data frame description, we will use this for analysis\n"
   ]
  },
  {
   "cell_type": "markdown",
   "id": "b877a09f",
   "metadata": {},
   "source": [
    "# Data Understanding"
   ]
  },
  {
   "cell_type": "code",
   "execution_count": 4,
   "id": "dfb51d57",
   "metadata": {},
   "outputs": [
    {
     "name": "stdout",
     "output_type": "stream",
     "text": [
      "id                                0\n",
      "member_id                         0\n",
      "loan_amnt                         0\n",
      "funded_amnt                       0\n",
      "funded_amnt_inv                   0\n",
      "                              ...  \n",
      "tax_liens                        39\n",
      "tot_hi_cred_lim               39717\n",
      "total_bal_ex_mort             39717\n",
      "total_bc_limit                39717\n",
      "total_il_high_credit_limit    39717\n",
      "Length: 111, dtype: int64\n"
     ]
    }
   ],
   "source": [
    "# count of null in columns\n",
    "print(df.isnull().sum())"
   ]
  },
  {
   "cell_type": "markdown",
   "id": "70319d94",
   "metadata": {},
   "source": [
    "---\n",
    "<span style='background:yellow'>\n",
    "From Data's description and null evaluation we have identified following -\n",
    "\n",
    "* There are Multiple columns which are filled with null values.\n",
    "    \n",
    "    \n",
    "* Below Column in data set are filled mostly with null values.\n",
    "        next_pymnt_d\n",
    "        mths_since_last_record\n",
    "        mths_since_last_delinq \n",
    "        desc\n",
    "* Below Column in data set are filled with just one unique value, which does not add any value to our analysis.\n",
    "        policy_code\n",
    "        acc_now_delinq\n",
    "        tax_liens\n",
    "        delinq_amnt\n",
    "        chargeoff_within_12_mths\n",
    "        collections_12_mths_ex_med\n",
    "        pymnt_plan\n",
    "* Below Column in data set does not add any value to our analysis as per their defination.\n",
    "        member_id\n",
    "        url\n",
    "        emp_title\n",
    "        application_type\n",
    "    \n",
    "---"
   ]
  },
  {
   "cell_type": "markdown",
   "id": "6459ac07",
   "metadata": {},
   "source": [
    "# Data cleaning"
   ]
  },
  {
   "cell_type": "code",
   "execution_count": 5,
   "id": "a362b9c3",
   "metadata": {},
   "outputs": [],
   "source": [
    "# Removing Columns filled with only null\n",
    "\n",
    "df = df.dropna(axis=1, how='all')"
   ]
  },
  {
   "cell_type": "code",
   "execution_count": 6,
   "id": "cf54e051",
   "metadata": {},
   "outputs": [
    {
     "data": {
      "text/plain": [
       "(39717, 57)"
      ]
     },
     "execution_count": 6,
     "metadata": {},
     "output_type": "execute_result"
    }
   ],
   "source": [
    "df.shape"
   ]
  },
  {
   "cell_type": "code",
   "execution_count": 7,
   "id": "a2060ef7",
   "metadata": {},
   "outputs": [],
   "source": [
    "# Deleting not required Columns from our data set\n",
    "\n",
    "# drop_col is list of columns mostly filled with null values\n",
    "drop_col = ['next_pymnt_d','mths_since_last_record','mths_since_last_delinq','desc']\n",
    "df.drop(labels =drop_col, axis=1, inplace=True)\n",
    "\n",
    "# drop_col1 is list of columns irrelevent to our EDA as per given data dictionary\n",
    "drop_col1 = ['member_id','url','emp_title','application_type']\n",
    "df.drop(labels =drop_col1, axis=1, inplace=True)\n",
    "\n",
    "# drop_col2 is list of columns having only one unique value\n",
    "drop_col2 = ['policy_code','acc_now_delinq','tax_liens','delinq_amnt','chargeoff_within_12_mths','collections_12_mths_ex_med','pymnt_plan']\n",
    "df.drop(labels =drop_col2, axis=1, inplace=True)"
   ]
  },
  {
   "cell_type": "code",
   "execution_count": 8,
   "id": "75b0b91b",
   "metadata": {},
   "outputs": [
    {
     "data": {
      "text/plain": [
       "11"
      ]
     },
     "execution_count": 8,
     "metadata": {},
     "output_type": "execute_result"
    }
   ],
   "source": [
    "df[\"title\"].isna().sum()\n"
   ]
  },
  {
   "cell_type": "code",
   "execution_count": 9,
   "id": "29f3e97c",
   "metadata": {},
   "outputs": [
    {
     "data": {
      "text/plain": [
       "(39717, 42)"
      ]
     },
     "execution_count": 9,
     "metadata": {},
     "output_type": "execute_result"
    }
   ],
   "source": [
    "df.shape"
   ]
  },
  {
   "cell_type": "code",
   "execution_count": 10,
   "id": "331fe69f",
   "metadata": {},
   "outputs": [],
   "source": [
    "# Formatting Emp_title Column\n",
    "\n",
    "df['emp_length'].fillna('0',inplace=True) # replacing null values with 0\n",
    "df['emp_length']=df['emp_length'].str.extract('(\\d+)') # removing '+' character from values"
   ]
  },
  {
   "cell_type": "code",
   "execution_count": 11,
   "id": "b3e6877f",
   "metadata": {},
   "outputs": [],
   "source": [
    "# Removing % symbol from intrest rate and revol_util column\n",
    "\n",
    "df['int_rate'] = df['int_rate'].str.rstrip('%')\n",
    "df['revol_util'] = df['revol_util'].str.rstrip('%')"
   ]
  },
  {
   "cell_type": "code",
   "execution_count": 12,
   "id": "72f305f7",
   "metadata": {},
   "outputs": [],
   "source": [
    "# Filling missing values in title and pub_rec_bankruptcies column as 'unknown'.\n",
    "\n",
    "df['title'].fillna('Unknown',inplace=True)\n",
    "df['pub_rec_bankruptcies'].fillna('Unknown',inplace=True)"
   ]
  },
  {
   "cell_type": "code",
   "execution_count": 31,
   "id": "1c268428",
   "metadata": {},
   "outputs": [],
   "source": [
    "# changing data types of required column to numeric value, to perform analysis operations on these columns.\n",
    "\n",
    "# col4 is the list of columns suppose to have numeric values.\n",
    "\n",
    "col4 = ['loan_amnt','funded_amnt','int_rate','funded_amnt_inv','installment','annual_inc','dti','emp_length','total_pymnt','revol_util']\n",
    "\n",
    "df[col4] = df[col4].apply(pd.to_numeric)"
   ]
  },
  {
   "cell_type": "code",
   "execution_count": 14,
   "id": "3426edd7",
   "metadata": {},
   "outputs": [
    {
     "name": "stdout",
     "output_type": "stream",
     "text": [
      "id                         0\n",
      "loan_amnt                  0\n",
      "funded_amnt                0\n",
      "funded_amnt_inv            0\n",
      "term                       0\n",
      "int_rate                   0\n",
      "installment                0\n",
      "grade                      0\n",
      "sub_grade                  0\n",
      "emp_length                 0\n",
      "home_ownership             0\n",
      "annual_inc                 0\n",
      "verification_status        0\n",
      "issue_d                    0\n",
      "loan_status                0\n",
      "purpose                    0\n",
      "title                      0\n",
      "zip_code                   0\n",
      "addr_state                 0\n",
      "dti                        0\n",
      "delinq_2yrs                0\n",
      "earliest_cr_line           0\n",
      "inq_last_6mths             0\n",
      "open_acc                   0\n",
      "pub_rec                    0\n",
      "revol_bal                  0\n",
      "revol_util                 0\n",
      "total_acc                  0\n",
      "initial_list_status        0\n",
      "out_prncp                  0\n",
      "out_prncp_inv              0\n",
      "total_pymnt                0\n",
      "total_pymnt_inv            0\n",
      "total_rec_prncp            0\n",
      "total_rec_int              0\n",
      "total_rec_late_fee         0\n",
      "recoveries                 0\n",
      "collection_recovery_fee    0\n",
      "last_pymnt_d               0\n",
      "last_pymnt_amnt            0\n",
      "last_credit_pull_d         0\n",
      "pub_rec_bankruptcies       0\n",
      "dtype: int64\n"
     ]
    }
   ],
   "source": [
    "df = df.dropna() # Dropping all the rows that still have null values\n",
    "\n",
    "df = df.reset_index(drop=True) # resetting index after all the clening operations\n",
    "\n",
    "print(df.isnull().sum()) # checking if any null values are remaing for any column"
   ]
  },
  {
   "cell_type": "code",
   "execution_count": 15,
   "id": "39e017fc",
   "metadata": {
    "scrolled": true
   },
   "outputs": [
    {
     "data": {
      "text/plain": [
       "Index(['id', 'loan_amnt', 'funded_amnt', 'funded_amnt_inv', 'term', 'int_rate',\n",
       "       'installment', 'grade', 'sub_grade', 'emp_length', 'home_ownership',\n",
       "       'annual_inc', 'verification_status', 'issue_d', 'loan_status',\n",
       "       'purpose', 'title', 'zip_code', 'addr_state', 'dti', 'delinq_2yrs',\n",
       "       'earliest_cr_line', 'inq_last_6mths', 'open_acc', 'pub_rec',\n",
       "       'revol_bal', 'revol_util', 'total_acc', 'initial_list_status',\n",
       "       'out_prncp', 'out_prncp_inv', 'total_pymnt', 'total_pymnt_inv',\n",
       "       'total_rec_prncp', 'total_rec_int', 'total_rec_late_fee', 'recoveries',\n",
       "       'collection_recovery_fee', 'last_pymnt_d', 'last_pymnt_amnt',\n",
       "       'last_credit_pull_d', 'pub_rec_bankruptcies'],\n",
       "      dtype='object')"
      ]
     },
     "execution_count": 15,
     "metadata": {},
     "output_type": "execute_result"
    }
   ],
   "source": [
    "df.columns # listing all columns in our data set"
   ]
  },
  {
   "cell_type": "markdown",
   "id": "995fd5ab",
   "metadata": {},
   "source": [
    "# Data analysis"
   ]
  },
  {
   "cell_type": "code",
   "execution_count": 33,
   "id": "257ea8c3",
   "metadata": {},
   "outputs": [],
   "source": [
    "#creating a subset data frame which contains only 'charged-off' data\n",
    "\n",
    "defaulter = df[(df.loan_status=='Charged Off')] # defaulter is the data frame contaning data where loan status is 'charged off'"
   ]
  },
  {
   "cell_type": "markdown",
   "id": "d0daf51b",
   "metadata": {},
   "source": [
    "### Outlier removal"
   ]
  },
  {
   "cell_type": "code",
   "execution_count": 48,
   "id": "da749476",
   "metadata": {},
   "outputs": [
    {
     "data": {
      "text/plain": [
       "count      5263.000000\n",
       "mean      55569.155183\n",
       "std       25105.046445\n",
       "min        4080.000000\n",
       "25%       36246.000000\n",
       "50%       51432.000000\n",
       "75%       70000.000000\n",
       "max      129996.000000\n",
       "Name: annual_inc, dtype: float64"
      ]
     },
     "execution_count": 48,
     "metadata": {},
     "output_type": "execute_result"
    }
   ],
   "source": [
    "defaulter.annual_inc.describe()"
   ]
  },
  {
   "cell_type": "code",
   "execution_count": 44,
   "id": "0c491a80",
   "metadata": {},
   "outputs": [
    {
     "data": {
      "text/plain": [
       "<AxesSubplot:xlabel='annual_inc'>"
      ]
     },
     "execution_count": 44,
     "metadata": {},
     "output_type": "execute_result"
    },
    {
     "data": {
      "image/png": "[encoded data removed]",
      "text/plain": [
       "<Figure size 432x288 with 1 Axes>"
      ]
     },
     "metadata": {
      "needs_background": "light"
     },
     "output_type": "display_data"
    }
   ],
   "source": [
    "sns.boxplot(defaulter.annual_inc) # plotting annual_inc as box plot to visualize outliers"
   ]
  },
  {
   "cell_type": "code",
   "execution_count": 45,
   "id": "38e694dc",
   "metadata": {},
   "outputs": [],
   "source": [
    "# outlier removal from annual income, keeping till 95 percentile\n",
    "\n",
    "defaulter = defaulter[defaulter[\"annual_inc\"] < defaulter[\"annual_inc\"].quantile(0.95)]"
   ]
  },
  {
   "cell_type": "code",
   "execution_count": 47,
   "id": "9ab0627d",
   "metadata": {},
   "outputs": [
    {
     "data": {
      "text/plain": [
       "<AxesSubplot:xlabel='annual_inc'>"
      ]
     },
     "execution_count": 47,
     "metadata": {},
     "output_type": "execute_result"
    },
    {
     "data": {
      "image/png": "[encoded data removed]",
      "text/plain": [
       "<Figure size 432x288 with 1 Axes>"
      ]
     },
     "metadata": {
      "needs_background": "light"
     },
     "output_type": "display_data"
    }
   ],
   "source": [
    "# plotting annual income after outlier removal\n",
    "\n",
    "sns.boxplot(defaulter.annual_inc)"
   ]
  },
  {
   "cell_type": "markdown",
   "id": "83516c32",
   "metadata": {},
   "source": [
    "### Univariate Analysis"
   ]
  },
  {
   "cell_type": "code",
   "execution_count": 53,
   "id": "b2b655ea",
   "metadata": {},
   "outputs": [
    {
     "data": {
      "text/plain": [
       "count    5263.000000\n",
       "mean       55.373298\n",
       "std        27.892036\n",
       "min         0.000000\n",
       "25%        34.300000\n",
       "50%        58.200000\n",
       "75%        78.750000\n",
       "max        99.900000\n",
       "Name: revol_util, dtype: float64"
      ]
     },
     "execution_count": 53,
     "metadata": {},
     "output_type": "execute_result"
    }
   ],
   "source": [
    "# Univariate Analysis - Quantative Variables \n",
    "defaulter.revol_util.describe()"
   ]
  },
  {
   "cell_type": "code",
   "execution_count": 54,
   "id": "dc511a9d",
   "metadata": {},
   "outputs": [
    {
     "data": {
      "image/png": "[encoded data removed]",
      "text/plain": [
       "<Figure size 432x288 with 1 Axes>"
      ]
     },
     "metadata": {
      "needs_background": "light"
     },
     "output_type": "display_data"
    }
   ],
   "source": [
    "plt.hist(defaulter.revol_util,bins = [0,10,20,30,40,50,60,70,80,90,100] )\n",
    "plt.show()"
   ]
  },
  {
   "cell_type": "markdown",
   "id": "293b6bdf",
   "metadata": {},
   "source": [
    "# Conclusion 1\n",
    "<span style='background:yellow'>\n",
    "As per the above histogram we can clearly observe, Customers who are revolving the credit more are more likely to default.\n",
    "    "
   ]
  },
  {
   "cell_type": "code",
   "execution_count": 52,
   "id": "9dd24987",
   "metadata": {},
   "outputs": [
    {
     "data": {
      "text/plain": [
       "<AxesSubplot:xlabel='term', ylabel='count'>"
      ]
     },
     "execution_count": 52,
     "metadata": {},
     "output_type": "execute_result"
    },
    {
     "data": {
      "image/png": "[encoded data removed]",
      "text/plain": [
       "<Figure size 432x288 with 1 Axes>"
      ]
     },
     "metadata": {
      "needs_background": "light"
     },
     "output_type": "display_data"
    }
   ],
   "source": [
    "# Univariate Analysis - Ordered Categorical Variables \n",
    "\n",
    "sns.countplot(x=\"term\",data=defaulter,hue='loan_status')"
   ]
  },
  {
   "cell_type": "markdown",
   "id": "a0d87194",
   "metadata": {},
   "source": [
    "# Conclusion 2\n",
    "<span style='background:yellow'>\n",
    "Number of customers defaulting loan for short period i.e. 36 months is more than those who take loan for 60 months"
   ]
  },
  {
   "cell_type": "markdown",
   "id": "cf7163be",
   "metadata": {},
   "source": [
    "### Derived column"
   ]
  },
  {
   "cell_type": "code",
   "execution_count": 56,
   "id": "9099b0da",
   "metadata": {},
   "outputs": [],
   "source": [
    "# creating columns of year and month from loan issue date column\n",
    "\n",
    "defaulter.issue_d = pd.to_datetime(defaulter.issue_d, format='%b-%y')\n",
    "defaulter['year']=defaulter['issue_d'].dt.year\n",
    "defaulter['month']=defaulter['issue_d'].dt.month"
   ]
  },
  {
   "cell_type": "code",
   "execution_count": 57,
   "id": "c9d4a486",
   "metadata": {},
   "outputs": [
    {
     "data": {
      "text/html": [
       "<div>\n",
       "<style scoped>\n",
       "    .dataframe tbody tr th:only-of-type {\n",
       "        vertical-align: middle;\n",
       "    }\n",
       "\n",
       "    .dataframe tbody tr th {\n",
       "        vertical-align: top;\n",
       "    }\n",
       "\n",
       "    .dataframe thead th {\n",
       "        text-align: right;\n",
       "    }\n",
       "</style>\n",
       "<table border=\"1\" class=\"dataframe\">\n",
       "  <thead>\n",
       "    <tr style=\"text-align: right;\">\n",
       "      <th></th>\n",
       "      <th>id</th>\n",
       "      <th>loan_amnt</th>\n",
       "      <th>funded_amnt</th>\n",
       "      <th>funded_amnt_inv</th>\n",
       "      <th>term</th>\n",
       "      <th>int_rate</th>\n",
       "      <th>installment</th>\n",
       "      <th>grade</th>\n",
       "      <th>sub_grade</th>\n",
       "      <th>emp_length</th>\n",
       "      <th>...</th>\n",
       "      <th>total_rec_int</th>\n",
       "      <th>total_rec_late_fee</th>\n",
       "      <th>recoveries</th>\n",
       "      <th>collection_recovery_fee</th>\n",
       "      <th>last_pymnt_d</th>\n",
       "      <th>last_pymnt_amnt</th>\n",
       "      <th>last_credit_pull_d</th>\n",
       "      <th>pub_rec_bankruptcies</th>\n",
       "      <th>year</th>\n",
       "      <th>month</th>\n",
       "    </tr>\n",
       "  </thead>\n",
       "  <tbody>\n",
       "    <tr>\n",
       "      <th>1</th>\n",
       "      <td>1077430</td>\n",
       "      <td>2500</td>\n",
       "      <td>2500</td>\n",
       "      <td>2500.0</td>\n",
       "      <td>60 months</td>\n",
       "      <td>15.27</td>\n",
       "      <td>59.83</td>\n",
       "      <td>C</td>\n",
       "      <td>C4</td>\n",
       "      <td>1</td>\n",
       "      <td>...</td>\n",
       "      <td>435.17</td>\n",
       "      <td>0.00</td>\n",
       "      <td>117.08</td>\n",
       "      <td>1.1100</td>\n",
       "      <td>Apr-13</td>\n",
       "      <td>119.66</td>\n",
       "      <td>Sep-13</td>\n",
       "      <td>0.0</td>\n",
       "      <td>2011</td>\n",
       "      <td>12</td>\n",
       "    </tr>\n",
       "    <tr>\n",
       "      <th>8</th>\n",
       "      <td>1071795</td>\n",
       "      <td>5600</td>\n",
       "      <td>5600</td>\n",
       "      <td>5600.0</td>\n",
       "      <td>60 months</td>\n",
       "      <td>21.28</td>\n",
       "      <td>152.39</td>\n",
       "      <td>F</td>\n",
       "      <td>F2</td>\n",
       "      <td>4</td>\n",
       "      <td>...</td>\n",
       "      <td>294.94</td>\n",
       "      <td>0.00</td>\n",
       "      <td>189.06</td>\n",
       "      <td>2.0900</td>\n",
       "      <td>Apr-12</td>\n",
       "      <td>152.39</td>\n",
       "      <td>Aug-12</td>\n",
       "      <td>0.0</td>\n",
       "      <td>2011</td>\n",
       "      <td>12</td>\n",
       "    </tr>\n",
       "    <tr>\n",
       "      <th>9</th>\n",
       "      <td>1071570</td>\n",
       "      <td>5375</td>\n",
       "      <td>5375</td>\n",
       "      <td>5350.0</td>\n",
       "      <td>60 months</td>\n",
       "      <td>12.69</td>\n",
       "      <td>121.45</td>\n",
       "      <td>B</td>\n",
       "      <td>B5</td>\n",
       "      <td>1</td>\n",
       "      <td>...</td>\n",
       "      <td>533.42</td>\n",
       "      <td>0.00</td>\n",
       "      <td>269.29</td>\n",
       "      <td>2.5200</td>\n",
       "      <td>Nov-12</td>\n",
       "      <td>121.45</td>\n",
       "      <td>Mar-13</td>\n",
       "      <td>0.0</td>\n",
       "      <td>2011</td>\n",
       "      <td>12</td>\n",
       "    </tr>\n",
       "    <tr>\n",
       "      <th>12</th>\n",
       "      <td>1064687</td>\n",
       "      <td>9000</td>\n",
       "      <td>9000</td>\n",
       "      <td>9000.0</td>\n",
       "      <td>36 months</td>\n",
       "      <td>13.49</td>\n",
       "      <td>305.38</td>\n",
       "      <td>C</td>\n",
       "      <td>C1</td>\n",
       "      <td>1</td>\n",
       "      <td>...</td>\n",
       "      <td>570.26</td>\n",
       "      <td>0.00</td>\n",
       "      <td>444.30</td>\n",
       "      <td>4.1600</td>\n",
       "      <td>Jul-12</td>\n",
       "      <td>305.38</td>\n",
       "      <td>Nov-12</td>\n",
       "      <td>0.0</td>\n",
       "      <td>2011</td>\n",
       "      <td>12</td>\n",
       "    </tr>\n",
       "    <tr>\n",
       "      <th>14</th>\n",
       "      <td>1069057</td>\n",
       "      <td>10000</td>\n",
       "      <td>10000</td>\n",
       "      <td>10000.0</td>\n",
       "      <td>36 months</td>\n",
       "      <td>10.65</td>\n",
       "      <td>325.74</td>\n",
       "      <td>B</td>\n",
       "      <td>B2</td>\n",
       "      <td>3</td>\n",
       "      <td>...</td>\n",
       "      <td>1393.42</td>\n",
       "      <td>0.00</td>\n",
       "      <td>645.10</td>\n",
       "      <td>6.3145</td>\n",
       "      <td>Oct-13</td>\n",
       "      <td>325.74</td>\n",
       "      <td>Mar-14</td>\n",
       "      <td>0.0</td>\n",
       "      <td>2011</td>\n",
       "      <td>12</td>\n",
       "    </tr>\n",
       "    <tr>\n",
       "      <th>...</th>\n",
       "      <td>...</td>\n",
       "      <td>...</td>\n",
       "      <td>...</td>\n",
       "      <td>...</td>\n",
       "      <td>...</td>\n",
       "      <td>...</td>\n",
       "      <td>...</td>\n",
       "      <td>...</td>\n",
       "      <td>...</td>\n",
       "      <td>...</td>\n",
       "      <td>...</td>\n",
       "      <td>...</td>\n",
       "      <td>...</td>\n",
       "      <td>...</td>\n",
       "      <td>...</td>\n",
       "      <td>...</td>\n",
       "      <td>...</td>\n",
       "      <td>...</td>\n",
       "      <td>...</td>\n",
       "      <td>...</td>\n",
       "      <td>...</td>\n",
       "    </tr>\n",
       "    <tr>\n",
       "      <th>39534</th>\n",
       "      <td>123228</td>\n",
       "      <td>20000</td>\n",
       "      <td>20000</td>\n",
       "      <td>975.0</td>\n",
       "      <td>36 months</td>\n",
       "      <td>9.64</td>\n",
       "      <td>642.02</td>\n",
       "      <td>B</td>\n",
       "      <td>B4</td>\n",
       "      <td>1</td>\n",
       "      <td>...</td>\n",
       "      <td>2442.88</td>\n",
       "      <td>0.00</td>\n",
       "      <td>0.00</td>\n",
       "      <td>0.0000</td>\n",
       "      <td>May-09</td>\n",
       "      <td>642.02</td>\n",
       "      <td>May-16</td>\n",
       "      <td>Unknown</td>\n",
       "      <td>2007</td>\n",
       "      <td>9</td>\n",
       "    </tr>\n",
       "    <tr>\n",
       "      <th>39547</th>\n",
       "      <td>119043</td>\n",
       "      <td>15450</td>\n",
       "      <td>15450</td>\n",
       "      <td>600.0</td>\n",
       "      <td>36 months</td>\n",
       "      <td>11.22</td>\n",
       "      <td>507.46</td>\n",
       "      <td>C</td>\n",
       "      <td>C4</td>\n",
       "      <td>2</td>\n",
       "      <td>...</td>\n",
       "      <td>2659.96</td>\n",
       "      <td>0.00</td>\n",
       "      <td>304.20</td>\n",
       "      <td>3.0900</td>\n",
       "      <td>Oct-09</td>\n",
       "      <td>1016.15</td>\n",
       "      <td>Mar-10</td>\n",
       "      <td>1.0</td>\n",
       "      <td>2007</td>\n",
       "      <td>8</td>\n",
       "    </tr>\n",
       "    <tr>\n",
       "      <th>39548</th>\n",
       "      <td>118823</td>\n",
       "      <td>2500</td>\n",
       "      <td>2500</td>\n",
       "      <td>675.0</td>\n",
       "      <td>36 months</td>\n",
       "      <td>12.80</td>\n",
       "      <td>84.00</td>\n",
       "      <td>D</td>\n",
       "      <td>D4</td>\n",
       "      <td>1</td>\n",
       "      <td>...</td>\n",
       "      <td>477.21</td>\n",
       "      <td>1.69</td>\n",
       "      <td>35.70</td>\n",
       "      <td>0.3800</td>\n",
       "      <td>Mar-10</td>\n",
       "      <td>1.76</td>\n",
       "      <td>May-16</td>\n",
       "      <td>Unknown</td>\n",
       "      <td>2007</td>\n",
       "      <td>8</td>\n",
       "    </tr>\n",
       "    <tr>\n",
       "      <th>39549</th>\n",
       "      <td>118533</td>\n",
       "      <td>2500</td>\n",
       "      <td>2500</td>\n",
       "      <td>825.0</td>\n",
       "      <td>36 months</td>\n",
       "      <td>9.64</td>\n",
       "      <td>80.26</td>\n",
       "      <td>B</td>\n",
       "      <td>B4</td>\n",
       "      <td>1</td>\n",
       "      <td>...</td>\n",
       "      <td>354.44</td>\n",
       "      <td>1.36</td>\n",
       "      <td>0.00</td>\n",
       "      <td>0.0000</td>\n",
       "      <td>Mar-10</td>\n",
       "      <td>1.40</td>\n",
       "      <td>May-16</td>\n",
       "      <td>Unknown</td>\n",
       "      <td>2007</td>\n",
       "      <td>8</td>\n",
       "    </tr>\n",
       "    <tr>\n",
       "      <th>39559</th>\n",
       "      <td>113179</td>\n",
       "      <td>1000</td>\n",
       "      <td>1000</td>\n",
       "      <td>950.0</td>\n",
       "      <td>36 months</td>\n",
       "      <td>10.59</td>\n",
       "      <td>32.55</td>\n",
       "      <td>C</td>\n",
       "      <td>C2</td>\n",
       "      <td>2</td>\n",
       "      <td>...</td>\n",
       "      <td>138.64</td>\n",
       "      <td>0.00</td>\n",
       "      <td>21.29</td>\n",
       "      <td>0.2300</td>\n",
       "      <td>May-09</td>\n",
       "      <td>32.55</td>\n",
       "      <td>Oct-09</td>\n",
       "      <td>Unknown</td>\n",
       "      <td>2007</td>\n",
       "      <td>8</td>\n",
       "    </tr>\n",
       "  </tbody>\n",
       "</table>\n",
       "<p>5263 rows × 44 columns</p>\n",
       "</div>"
      ],
      "text/plain": [
       "            id  loan_amnt  funded_amnt  funded_amnt_inv        term  int_rate  \\\n",
       "1      1077430       2500         2500           2500.0   60 months     15.27   \n",
       "8      1071795       5600         5600           5600.0   60 months     21.28   \n",
       "9      1071570       5375         5375           5350.0   60 months     12.69   \n",
       "12     1064687       9000         9000           9000.0   36 months     13.49   \n",
       "14     1069057      10000        10000          10000.0   36 months     10.65   \n",
       "...        ...        ...          ...              ...         ...       ...   \n",
       "39534   123228      20000        20000            975.0   36 months      9.64   \n",
       "39547   119043      15450        15450            600.0   36 months     11.22   \n",
       "39548   118823       2500         2500            675.0   36 months     12.80   \n",
       "39549   118533       2500         2500            825.0   36 months      9.64   \n",
       "39559   113179       1000         1000            950.0   36 months     10.59   \n",
       "\n",
       "       installment grade sub_grade  emp_length  ... total_rec_int  \\\n",
       "1            59.83     C        C4           1  ...        435.17   \n",
       "8           152.39     F        F2           4  ...        294.94   \n",
       "9           121.45     B        B5           1  ...        533.42   \n",
       "12          305.38     C        C1           1  ...        570.26   \n",
       "14          325.74     B        B2           3  ...       1393.42   \n",
       "...            ...   ...       ...         ...  ...           ...   \n",
       "39534       642.02     B        B4           1  ...       2442.88   \n",
       "39547       507.46     C        C4           2  ...       2659.96   \n",
       "39548        84.00     D        D4           1  ...        477.21   \n",
       "39549        80.26     B        B4           1  ...        354.44   \n",
       "39559        32.55     C        C2           2  ...        138.64   \n",
       "\n",
       "       total_rec_late_fee recoveries collection_recovery_fee last_pymnt_d  \\\n",
       "1                    0.00     117.08                  1.1100       Apr-13   \n",
       "8                    0.00     189.06                  2.0900       Apr-12   \n",
       "9                    0.00     269.29                  2.5200       Nov-12   \n",
       "12                   0.00     444.30                  4.1600       Jul-12   \n",
       "14                   0.00     645.10                  6.3145       Oct-13   \n",
       "...                   ...        ...                     ...          ...   \n",
       "39534                0.00       0.00                  0.0000       May-09   \n",
       "39547                0.00     304.20                  3.0900       Oct-09   \n",
       "39548                1.69      35.70                  0.3800       Mar-10   \n",
       "39549                1.36       0.00                  0.0000       Mar-10   \n",
       "39559                0.00      21.29                  0.2300       May-09   \n",
       "\n",
       "      last_pymnt_amnt last_credit_pull_d pub_rec_bankruptcies  year  month  \n",
       "1              119.66             Sep-13                  0.0  2011     12  \n",
       "8              152.39             Aug-12                  0.0  2011     12  \n",
       "9              121.45             Mar-13                  0.0  2011     12  \n",
       "12             305.38             Nov-12                  0.0  2011     12  \n",
       "14             325.74             Mar-14                  0.0  2011     12  \n",
       "...               ...                ...                  ...   ...    ...  \n",
       "39534          642.02             May-16              Unknown  2007      9  \n",
       "39547         1016.15             Mar-10                  1.0  2007      8  \n",
       "39548            1.76             May-16              Unknown  2007      8  \n",
       "39549            1.40             May-16              Unknown  2007      8  \n",
       "39559           32.55             Oct-09              Unknown  2007      8  \n",
       "\n",
       "[5263 rows x 44 columns]"
      ]
     },
     "execution_count": 57,
     "metadata": {},
     "output_type": "execute_result"
    }
   ],
   "source": [
    "defaulter"
   ]
  },
  {
   "cell_type": "code",
   "execution_count": 58,
   "id": "d1613471",
   "metadata": {},
   "outputs": [
    {
     "data": {
      "text/plain": [
       "<AxesSubplot:xlabel='year', ylabel='count'>"
      ]
     },
     "execution_count": 58,
     "metadata": {},
     "output_type": "execute_result"
    },
    {
     "data": {
      "image/png": "[encoded data removed]",
      "text/plain": [
       "<Figure size 432x288 with 1 Axes>"
      ]
     },
     "metadata": {
      "needs_background": "light"
     },
     "output_type": "display_data"
    }
   ],
   "source": [
    "sns.countplot(x=\"year\",data=defaulter,hue='loan_status')"
   ]
  },
  {
   "cell_type": "code",
   "execution_count": 60,
   "id": "6ecc487a",
   "metadata": {},
   "outputs": [
    {
     "data": {
      "text/plain": [
       "<AxesSubplot:xlabel='month', ylabel='count'>"
      ]
     },
     "execution_count": 60,
     "metadata": {},
     "output_type": "execute_result"
    },
    {
     "data": {
      "image/png": "[encoded data removed]",
      "text/plain": [
       "<Figure size 432x288 with 1 Axes>"
      ]
     },
     "metadata": {
      "needs_background": "light"
     },
     "output_type": "display_data"
    }
   ],
   "source": [
    "sns.countplot(x=\"month\",data=defaulter,hue='loan_status')"
   ]
  },
  {
   "cell_type": "markdown",
   "id": "5d9f2ae5",
   "metadata": {},
   "source": [
    "# Conclusion 3\n",
    "<span style='background:yellow'>\n",
    "Following are the observations from derived columns\n",
    "    \n",
    "    * Number of customers defaulting loan is almost increasing by double every year, which states the need to bring in better loan approval mechanism.\n",
    "\n",
    "    \n",
    "    * Also the maximum numbers of loans are approved towards the end of year"
   ]
  },
  {
   "cell_type": "markdown",
   "id": "f98fb4a8",
   "metadata": {},
   "source": [
    "# Bivariate Analysis"
   ]
  },
  {
   "cell_type": "code",
   "execution_count": 66,
   "id": "459efe60",
   "metadata": {},
   "outputs": [
    {
     "data": {
      "text/html": [
       "<div>\n",
       "<style scoped>\n",
       "    .dataframe tbody tr th:only-of-type {\n",
       "        vertical-align: middle;\n",
       "    }\n",
       "\n",
       "    .dataframe tbody tr th {\n",
       "        vertical-align: top;\n",
       "    }\n",
       "\n",
       "    .dataframe thead th {\n",
       "        text-align: right;\n",
       "    }\n",
       "</style>\n",
       "<table border=\"1\" class=\"dataframe\">\n",
       "  <thead>\n",
       "    <tr style=\"text-align: right;\">\n",
       "      <th>loan_status</th>\n",
       "      <th>pub_rec_bankruptcies</th>\n",
       "      <th>Charged Off</th>\n",
       "      <th>Current</th>\n",
       "      <th>Fully Paid</th>\n",
       "      <th>Total</th>\n",
       "      <th>Chargedoff_Proportion</th>\n",
       "    </tr>\n",
       "  </thead>\n",
       "  <tbody>\n",
       "    <tr>\n",
       "      <th>2</th>\n",
       "      <td>2.0</td>\n",
       "      <td>2.0</td>\n",
       "      <td>2.0</td>\n",
       "      <td>3.0</td>\n",
       "      <td>7.0</td>\n",
       "      <td>0.285714</td>\n",
       "    </tr>\n",
       "    <tr>\n",
       "      <th>1</th>\n",
       "      <td>1.0</td>\n",
       "      <td>360.0</td>\n",
       "      <td>37.0</td>\n",
       "      <td>1270.0</td>\n",
       "      <td>1667.0</td>\n",
       "      <td>0.215957</td>\n",
       "    </tr>\n",
       "    <tr>\n",
       "      <th>3</th>\n",
       "      <td>Unknown</td>\n",
       "      <td>118.0</td>\n",
       "      <td>0.0</td>\n",
       "      <td>578.0</td>\n",
       "      <td>696.0</td>\n",
       "      <td>0.169540</td>\n",
       "    </tr>\n",
       "    <tr>\n",
       "      <th>0</th>\n",
       "      <td>0.0</td>\n",
       "      <td>5063.0</td>\n",
       "      <td>1101.0</td>\n",
       "      <td>31064.0</td>\n",
       "      <td>37228.0</td>\n",
       "      <td>0.136000</td>\n",
       "    </tr>\n",
       "  </tbody>\n",
       "</table>\n",
       "</div>"
      ],
      "text/plain": [
       "loan_status pub_rec_bankruptcies  Charged Off  Current  Fully Paid    Total  \\\n",
       "2                            2.0          2.0      2.0         3.0      7.0   \n",
       "1                            1.0        360.0     37.0      1270.0   1667.0   \n",
       "3                        Unknown        118.0      0.0       578.0    696.0   \n",
       "0                            0.0       5063.0   1101.0     31064.0  37228.0   \n",
       "\n",
       "loan_status  Chargedoff_Proportion  \n",
       "2                         0.285714  \n",
       "1                         0.215957  \n",
       "3                         0.169540  \n",
       "0                         0.136000  "
      ]
     },
     "execution_count": 66,
     "metadata": {},
     "output_type": "execute_result"
    }
   ],
   "source": [
    "# Bivariate Analysis on pub_rec_bankruptcies against Charged-off_Proportion\n",
    "\n",
    "bankruptcies_table = df.groupby(['pub_rec_bankruptcies', 'loan_status']).loan_status.count().unstack().fillna(0).reset_index()\n",
    "bankruptcies_table['Total']=bankruptcies_table['Charged Off']+bankruptcies_table['Current']+bankruptcies_table['Fully Paid'] \n",
    "bankruptcies_table['Chargedoff_Proportion'] = bankruptcies_table['Charged Off'] / bankruptcies_table['Total']\n",
    "bankruptcies_table.sort_values('Chargedoff_Proportion', ascending=False)"
   ]
  },
  {
   "cell_type": "code",
   "execution_count": 67,
   "id": "d33cac04",
   "metadata": {},
   "outputs": [
    {
     "data": {
      "image/png": "[encoded data removed]",
      "text/plain": [
       "<Figure size 864x504 with 1 Axes>"
      ]
     },
     "metadata": {},
     "output_type": "display_data"
    }
   ],
   "source": [
    "#plotting above qcalculated data\n",
    "\n",
    "fig, ax1 = plt.subplots(figsize=(12, 7),facecolor='b')\n",
    "ax1.set_title('Public Bankruptcy Records vs Chargedoff Proportion',fontsize=15,color='w')\n",
    "ax1=sns.barplot(x='pub_rec_bankruptcies', y='Chargedoff_Proportion', data=bankruptcies_table)\n",
    "ax1.set_xlabel('Public Bankruptcy Records',fontsize=14,color='w')\n",
    "ax1.set_ylabel('Chargedoff Proportion',fontsize=14,color = 'w')\n",
    "plt.show()"
   ]
  },
  {
   "cell_type": "markdown",
   "id": "e7a0fdd2",
   "metadata": {},
   "source": [
    "# Conclusion 4\n",
    "<span style='background:yellow'>\n",
    "Customers with previous bankruptices record are more likely to default"
   ]
  },
  {
   "cell_type": "code",
   "execution_count": 71,
   "id": "47511a74",
   "metadata": {},
   "outputs": [
    {
     "data": {
      "text/html": [
       "<div>\n",
       "<style scoped>\n",
       "    .dataframe tbody tr th:only-of-type {\n",
       "        vertical-align: middle;\n",
       "    }\n",
       "\n",
       "    .dataframe tbody tr th {\n",
       "        vertical-align: top;\n",
       "    }\n",
       "\n",
       "    .dataframe thead th {\n",
       "        text-align: right;\n",
       "    }\n",
       "</style>\n",
       "<table border=\"1\" class=\"dataframe\">\n",
       "  <thead>\n",
       "    <tr style=\"text-align: right;\">\n",
       "      <th>loan_status</th>\n",
       "      <th>int_rate</th>\n",
       "      <th>Charged Off</th>\n",
       "    </tr>\n",
       "  </thead>\n",
       "  <tbody>\n",
       "    <tr>\n",
       "      <th>0</th>\n",
       "      <td>5.42</td>\n",
       "      <td>20</td>\n",
       "    </tr>\n",
       "    <tr>\n",
       "      <th>1</th>\n",
       "      <td>5.79</td>\n",
       "      <td>16</td>\n",
       "    </tr>\n",
       "    <tr>\n",
       "      <th>2</th>\n",
       "      <td>5.99</td>\n",
       "      <td>18</td>\n",
       "    </tr>\n",
       "    <tr>\n",
       "      <th>3</th>\n",
       "      <td>6.03</td>\n",
       "      <td>5</td>\n",
       "    </tr>\n",
       "    <tr>\n",
       "      <th>4</th>\n",
       "      <td>6.17</td>\n",
       "      <td>9</td>\n",
       "    </tr>\n",
       "    <tr>\n",
       "      <th>...</th>\n",
       "      <td>...</td>\n",
       "      <td>...</td>\n",
       "    </tr>\n",
       "    <tr>\n",
       "      <th>321</th>\n",
       "      <td>23.52</td>\n",
       "      <td>4</td>\n",
       "    </tr>\n",
       "    <tr>\n",
       "      <th>322</th>\n",
       "      <td>23.59</td>\n",
       "      <td>1</td>\n",
       "    </tr>\n",
       "    <tr>\n",
       "      <th>323</th>\n",
       "      <td>23.91</td>\n",
       "      <td>1</td>\n",
       "    </tr>\n",
       "    <tr>\n",
       "      <th>324</th>\n",
       "      <td>24.11</td>\n",
       "      <td>1</td>\n",
       "    </tr>\n",
       "    <tr>\n",
       "      <th>325</th>\n",
       "      <td>24.40</td>\n",
       "      <td>1</td>\n",
       "    </tr>\n",
       "  </tbody>\n",
       "</table>\n",
       "<p>326 rows × 2 columns</p>\n",
       "</div>"
      ],
      "text/plain": [
       "loan_status  int_rate  Charged Off\n",
       "0                5.42           20\n",
       "1                5.79           16\n",
       "2                5.99           18\n",
       "3                6.03            5\n",
       "4                6.17            9\n",
       "..                ...          ...\n",
       "321             23.52            4\n",
       "322             23.59            1\n",
       "323             23.91            1\n",
       "324             24.11            1\n",
       "325             24.40            1\n",
       "\n",
       "[326 rows x 2 columns]"
      ]
     },
     "execution_count": 71,
     "metadata": {},
     "output_type": "execute_result"
    }
   ],
   "source": [
    "interest_table = defaulter.groupby(['int_rate', 'loan_status']).loan_status.count().unstack().fillna(0).reset_index()\n",
    "interest_table\n"
   ]
  },
  {
   "cell_type": "code",
   "execution_count": 84,
   "id": "6f4edadd",
   "metadata": {},
   "outputs": [
    {
     "data": {
      "text/plain": [
       "<seaborn.axisgrid.JointGrid at 0x2cf4f226760>"
      ]
     },
     "execution_count": 84,
     "metadata": {},
     "output_type": "execute_result"
    },
    {
     "data": {
      "image/png": "[encoded data removed]",
      "text/plain": [
       "<Figure size 432x432 with 3 Axes>"
      ]
     },
     "metadata": {
      "needs_background": "light"
     },
     "output_type": "display_data"
    }
   ],
   "source": [
    "sns.jointplot(interest_table.int_rate,interest_table['Charged Off'])"
   ]
  },
  {
   "cell_type": "markdown",
   "id": "daee2b1e",
   "metadata": {},
   "source": [
    "# Conclusion 5\n",
    "<span style='background:yellow'>\n",
    "As per the above graph we can see that defaulters are more for interest rate around 15%"
   ]
  },
  {
   "cell_type": "code",
   "execution_count": null,
   "id": "913e8444",
   "metadata": {},
   "outputs": [],
   "source": []
  }
 ],
 "metadata": {
  "kernelspec": {
   "display_name": "Python 3 (ipykernel)",
   "language": "python",
   "name": "python3"
  },
  "language_info": {
   "codemirror_mode": {
    "name": "ipython",
    "version": 3
   },
   "file_extension": ".py",
   "mimetype": "text/x-python",
   "name": "python",
   "nbconvert_exporter": "python",
   "pygments_lexer": "ipython3",
   "version": "3.9.7"
  }
 },
 "nbformat": 4,
 "nbformat_minor": 5
}
